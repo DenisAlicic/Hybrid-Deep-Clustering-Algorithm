{
 "cells": [
  {
   "cell_type": "code",
   "execution_count": 1,
   "id": "encouraging-nevada",
   "metadata": {},
   "outputs": [],
   "source": [
    "import pandas as pd\n",
    "import numpy as np\n",
    "from sklearn.datasets import load_digits\n",
    "import random"
   ]
  },
  {
   "cell_type": "code",
   "execution_count": 2,
   "id": "resident-industry",
   "metadata": {},
   "outputs": [],
   "source": [
    "data, labels = load_digits(return_X_y=True)\n",
    "(n_samples, n_features), n_digits = data.shape, np.unique(labels).size\n",
    "\n",
    "#data = np.array([[random.gauss(50, 5), random.gauss(50, 10)] for _ in range(200)])\n",
    "#n_digits = 5"
   ]
  },
  {
   "cell_type": "code",
   "execution_count": 3,
   "id": "likely-detector",
   "metadata": {},
   "outputs": [],
   "source": [
    "from sklearn.metrics import davies_bouldin_score, calinski_harabasz_score         "
   ]
  },
  {
   "cell_type": "code",
   "execution_count": 4,
   "id": "worldwide-bosnia",
   "metadata": {},
   "outputs": [],
   "source": [
    "import math\n",
    "from typing import Callable\n",
    "import copy\n",
    "\n",
    "def eucledian_dist(point0, point1):\n",
    "    dist = 0.0\n",
    "    for i in range(0,len(point0)):\n",
    "        dist += (point0[i] - point1[i])**2\n",
    "    return math.sqrt(dist)\n",
    "\n",
    "class Particle:\n",
    "    def __init__(self, k: int, points, distance: Callable, objective: Callable, w: float, c1: float, c2:float, bounds):\n",
    "        self.k = k\n",
    "        self.points = points\n",
    "        self.velocity = [[random.uniform(bounds[0], bounds[1]) for _ in range(len(points[0]))] for _ in range(k)]\n",
    "        self.objective = objective\n",
    "        self.w = w\n",
    "        self.c1 = c1\n",
    "        self.c2 = c2\n",
    "        self.centroids = random.sample(points, k)\n",
    "        self.distance = distance\n",
    "        \n",
    "        self.bestPosition = copy.deepcopy(self.centroids)\n",
    "        self.currentValue = objective(points, self._assign_clusters(points))\n",
    "        self.bestValue = self.currentValue\n",
    "        self.bounds = bounds\n",
    "        \n",
    "    def _assign_clusters(self, points):\n",
    "        clusters = []\n",
    "        for point in points:\n",
    "            clusters.append(self.centroids.index(min(self.centroids, key=lambda x: self.distance(point, x))))\n",
    "        return clusters\n",
    "    \n",
    "    def updatePosition(self, globalBestPosition, globalBestValue, globalBestParticle):\n",
    "        \n",
    "        for i in range(len(self.centroids)):\n",
    "            for j in range(len(self.centroids[i])):\n",
    "                self.centroids[i][j] += self.velocity[i][j]\n",
    "                \n",
    "        \n",
    "        self.currentValue = self.objective(self.points, self._assign_clusters(self.points))\n",
    "        if self.currentValue < self.bestValue:\n",
    "            self.bestValue = self.currentValue\n",
    "            self.bestPosition = copy.deepcopy(self.centroids)\n",
    "            \n",
    "            if self.currentValue < globalBestValue:\n",
    "                globalBestValue = self.currentValue\n",
    "                globalBestPosition = copy.deepcopy(self.centroids)\n",
    "                globalBestParticle = copy.deepcopy(self)\n",
    "                \n",
    "        return globalBestPosition, globalBestValue, globalBestParticle\n",
    "            \n",
    "            \n",
    "    def updateVelocity(self, globalBestPosition):\n",
    "        for i in range(len(self.velocity)):\n",
    "            r1 = random.random()\n",
    "            r2 = random.random()\n",
    "            \n",
    "            for j in range(len(self.velocity[i])):\n",
    "                cognitive_velocity = r1 * self.c1 * (self.bestPosition[i][j] - self.centroids[i][j])\n",
    "                social_velocity = r2 * self.c2 * (globalBestPosition[i][j] - self.centroids[i][j])\n",
    "            \n",
    "                self.velocity[i][j] = self.w * self.velocity[i][j] + cognitive_velocity + social_velocity  \n",
    "                if self.velocity[i][j] > self.bounds[1]:\n",
    "                    self.velocity[i][j] = self.bounds[1]\n",
    "                elif self.velocity[i][j] < self.bounds[0]:\n",
    "                    self.velocity[i][j] = self.bounds[0]\n",
    "        "
   ]
  },
  {
   "cell_type": "code",
   "execution_count": 5,
   "id": "prescription-softball",
   "metadata": {},
   "outputs": [
    {
     "name": "stdout",
     "output_type": "stream",
     "text": [
      "(1797, 64)\n",
      "2.3328678221058707\n",
      "{0, 1, 2, 3, 4, 5, 6, 7, 8, 9}\n",
      "2.3363685543871235\n",
      "2.359731164976854\n"
     ]
    },
    {
     "data": {
      "text/plain": [
       "[<matplotlib.lines.Line2D at 0x7fbf32ddd610>]"
      ]
     },
     "execution_count": 5,
     "metadata": {},
     "output_type": "execute_result"
    },
    {
     "data": {
      "image/png": "[encoded data removed]",
      "text/plain": [
       "<Figure size 432x288 with 1 Axes>"
      ]
     },
     "metadata": {
      "needs_background": "light"
     },
     "output_type": "display_data"
    }
   ],
   "source": [
    "import matplotlib.pyplot as plt\n",
    "SWARM_SIZE = 10\n",
    "MAX_ITER = 50\n",
    "bounds = [-0.5, 0.5]\n",
    "print(data.shape)\n",
    "swarm = [Particle(n_digits, data.tolist(), eucledian_dist, davies_bouldin_score, 0.75, 2, 1, bounds) for _ in range(SWARM_SIZE)]\n",
    "\n",
    "def chs_inverted(points, clusters):\n",
    "    return -calinski_harabasz_score(points, clusters)\n",
    "\n",
    "#swarm = [Particle(5, data.tolist(), eucledian_dist, chs_inverted, 0.75, 1, 2, bounds) for _ in range(SWARM_SIZE)]\n",
    "globalBestPosition = copy.deepcopy(swarm[0].centroids)\n",
    "globalBestValue = swarm[0].currentValue\n",
    "globalBestParticle = swarm[0]\n",
    "\n",
    "for particle in swarm:\n",
    "    if particle.currentValue < globalBestValue:\n",
    "        globalBestValue = particle.currentValue\n",
    "        globalBestPosition = copy.deepcopy(particle.centroids)\n",
    "        globalBestParticle = particle\n",
    "\n",
    "bests = []\n",
    "for i in range(MAX_ITER):\n",
    "    for j in range(len(swarm)):\n",
    "        swarm[j].updateVelocity(globalBestPosition)\n",
    "        globalBestPosition, globalBestValue, globalBestParticle = swarm[j].updatePosition(globalBestPosition, globalBestValue, globalBestParticle)\n",
    "        \n",
    "    bests.append(globalBestValue)\n",
    "\n",
    "#print('Solution: {}, value: {}'.format(globalBestPosition, globalBestValue))\n",
    "print(globalBestValue)\n",
    "clusters = globalBestParticle._assign_clusters(data.tolist())\n",
    "print(set(clusters))\n",
    "print(davies_bouldin_score(data.tolist(), clusters))\n",
    "print(davies_bouldin_score(globalBestParticle.points, clusters))\n",
    "\n",
    "plt.plot(range(MAX_ITER), bests)"
   ]
  },
  {
   "cell_type": "code",
   "execution_count": 16,
   "id": "indian-hearts",
   "metadata": {},
   "outputs": [
    {
     "name": "stdout",
     "output_type": "stream",
     "text": [
      "0.49124098127940935\n",
      "0.4858870031628582\n",
      "0.5073813005452579\n",
      "0.4964015838670206\n"
     ]
    }
   ],
   "source": [
    "from sklearn import metrics\n",
    "print(metrics.adjusted_mutual_info_score(labels, clusters))\n",
    "print(metrics.homogeneity_score(labels, clusters))\n",
    "print(metrics.completeness_score(labels, clusters))\n",
    "print(metrics.v_measure_score(labels, clusters))\n"
   ]
  },
  {
   "cell_type": "code",
   "execution_count": 7,
   "id": "rotary-silver",
   "metadata": {},
   "outputs": [
    {
     "data": {
      "text/plain": [
       "<matplotlib.collections.PathCollection at 0x7fbf32e35e20>"
      ]
     },
     "execution_count": 7,
     "metadata": {},
     "output_type": "execute_result"
    },
    {
     "data": {
      "image/png": "[encoded data removed]",
      "text/plain": [
       "<Figure size 432x288 with 1 Axes>"
      ]
     },
     "metadata": {
      "needs_background": "light"
     },
     "output_type": "display_data"
    }
   ],
   "source": [
    "plt.scatter(data[:, 0], data[:, 1], c = clusters)\n",
    "centroids_np = np.array(globalBestParticle.centroids)\n",
    "plt.scatter(centroids_np[:, 0], centroids_np[:, 1], color='orange')"
   ]
  },
  {
   "cell_type": "code",
   "execution_count": 8,
   "id": "overall-failure",
   "metadata": {},
   "outputs": [
    {
     "data": {
      "text/plain": [
       "<matplotlib.collections.PathCollection at 0x7fbf31eff2e0>"
      ]
     },
     "execution_count": 8,
     "metadata": {},
     "output_type": "execute_result"
    },
    {
     "data": {
      "image/png": "[encoded data removed]",
      "text/plain": [
       "<Figure size 432x288 with 1 Axes>"
      ]
     },
     "metadata": {
      "needs_background": "light"
     },
     "output_type": "display_data"
    }
   ],
   "source": [
    "from sklearn.cluster import KMeans\n",
    "\n",
    "kmean = KMeans(5, init='random').fit(data)\n",
    "plt.scatter(data[:, 0], data[:, 1], c=kmean.labels_)\n",
    "plt.scatter(kmean.cluster_centers_[:, 0], kmean.cluster_centers_[:, 1], color='orange')"
   ]
  },
  {
   "cell_type": "code",
   "execution_count": null,
   "id": "compressed-brunei",
   "metadata": {},
   "outputs": [],
   "source": []
  }
 ],
 "metadata": {
  "kernelspec": {
   "display_name": "Python 3",
   "language": "python",
   "name": "python3"
  },
  "language_info": {
   "codemirror_mode": {
    "name": "ipython",
    "version": 3
   },
   "file_extension": ".py",
   "mimetype": "text/x-python",
   "name": "python",
   "nbconvert_exporter": "python",
   "pygments_lexer": "ipython3",
   "version": "3.8.8"
  }
 },
 "nbformat": 4,
 "nbformat_minor": 5
}
